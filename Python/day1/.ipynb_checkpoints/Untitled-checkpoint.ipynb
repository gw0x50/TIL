{
 "cells": [
  {
   "cell_type": "markdown",
   "id": "133f4d68",
   "metadata": {},
   "source": [
    "# 변수 연산자 조건문 반복문 문법"
   ]
  },
  {
   "cell_type": "code",
   "execution_count": 2,
   "id": "3807a59e",
   "metadata": {},
   "outputs": [
    {
     "name": "stdout",
     "output_type": "stream",
     "text": [
      "None\n",
      "<class 'NoneType'>\n",
      "30\n",
      "<class 'int'>\n",
      "3.14\n",
      "<class 'float'>\n",
      "True\n",
      "<class 'bool'>\n",
      "abc\n",
      "<class 'str'>\n",
      "abc\n",
      "<class 'str'>\n"
     ]
    }
   ],
   "source": [
    "# int i = 10 # Java\n",
    "# let j = 20 # JavaScript\n",
    "\n",
    "k = None\n",
    "print(k)\n",
    "print(type(k))\n",
    "\n",
    "k = 30\n",
    "print(k)\n",
    "print(type(k))\n",
    "\n",
    "k = 3.14\n",
    "print(k)\n",
    "print(type(k))\n",
    "\n",
    "k = True\n",
    "print(k)\n",
    "print(type(k))\n",
    "\n",
    "k = 'abc'\n",
    "print(k)\n",
    "print(type(k))\n",
    "\n",
    "k\n",
    "print(k)\n",
    "print(type(k))"
   ]
  },
  {
   "cell_type": "markdown",
   "id": "1bdfa778",
   "metadata": {},
   "source": [
    "# 숫자 연산자"
   ]
  },
  {
   "cell_type": "code",
   "execution_count": 7,
   "id": "64bb370e",
   "metadata": {},
   "outputs": [
    {
     "name": "stdout",
     "output_type": "stream",
     "text": [
      "a / b =  3.3333333333333335\n",
      "a // b =  3\n",
      "a % b =  1\n",
      "a를 2진수로 =  0b1010\n",
      "a를 8진수로 =  0xa\n",
      "a를 16진수로 =  0o12\n",
      "3.14 - 3.04 =  0.10000000000000009\n"
     ]
    }
   ],
   "source": [
    "a = 10\n",
    "b = 3\n",
    "print(\"a / b = \", a/b) #실수몫\n",
    "print(\"a // b = \", a//b) #정수몫\n",
    "print(\"a % b = \", a%b) #정수몫을 구한 이후 나머지\n",
    "print(\"a를 2진수로 = \", bin(a))\n",
    "print(\"a를 8진수로 = \", hex(a))\n",
    "print(\"a를 16진수로 = \", oct(a))\n",
    "\n",
    "print(\"3.14 - 3.04 = \", 3.14 - 3.04) #오차범위"
   ]
  },
  {
   "cell_type": "markdown",
   "id": "2d9e1632",
   "metadata": {},
   "source": [
    "# 문자 연산자"
   ]
  },
  {
   "cell_type": "code",
   "execution_count": 24,
   "id": "8fac8aad",
   "metadata": {},
   "outputs": [
    {
     "name": "stdout",
     "output_type": "stream",
     "text": [
      "c\n",
      "c\n",
      "abc\n",
      "c\n",
      "abcdef\n",
      "abcabcabc\n",
      "한 개의 문자열로 취급하기 한 개의 문자열로 취급하기 한 개의 문자열로 취급하기\n"
     ]
    }
   ],
   "source": [
    "a = \"abc\"\n",
    "b = 'def'\n",
    "c = 100\n",
    "\n",
    "print(a[2:4]) # 2번 부터 4번 인덱스 이전까지 문자열\n",
    "print(a[2:]) # 2번 부터 나머지 문자열\n",
    "print(a[:4]) # 0번 부터 4번 인덱스 이전까지 문자열\n",
    "print(a[-1:4])\n",
    "\n",
    "print(a+b) # 문자 결합\n",
    "print(a*3) # 문자*int 문자를 int 반복\n",
    "\n",
    "d = '''한 개의 문자열로 취급하기 한 개의 문자열로 취급하기 한 개의 문자열로 취급하기'''\n",
    "print(d)"
   ]
  },
  {
   "cell_type": "code",
   "execution_count": 28,
   "id": "f6c2523d",
   "metadata": {},
   "outputs": [
    {
     "name": "stdout",
     "output_type": "stream",
     "text": [
      "True\n",
      "5\n",
      "5\n",
      "campus\n",
      "2\n",
      "11\n",
      "['__add__', '__class__', '__contains__', '__delattr__', '__dir__', '__doc__', '__eq__', '__format__', '__ge__', '__getattribute__', '__getitem__', '__getnewargs__', '__gt__', '__hash__', '__init__', '__init_subclass__', '__iter__', '__le__', '__len__', '__lt__', '__mod__', '__mul__', '__ne__', '__new__', '__reduce__', '__reduce_ex__', '__repr__', '__rmod__', '__rmul__', '__setattr__', '__sizeof__', '__str__', '__subclasshook__', 'capitalize', 'casefold', 'center', 'count', 'encode', 'endswith', 'expandtabs', 'find', 'format', 'format_map', 'index', 'isalnum', 'isalpha', 'isascii', 'isdecimal', 'isdigit', 'isidentifier', 'islower', 'isnumeric', 'isprintable', 'isspace', 'istitle', 'isupper', 'join', 'ljust', 'lower', 'lstrip', 'maketrans', 'partition', 'removeprefix', 'removesuffix', 'replace', 'rfind', 'rindex', 'rjust', 'rpartition', 'rsplit', 'rstrip', 'split', 'splitlines', 'startswith', 'strip', 'swapcase', 'title', 'translate', 'upper', 'zfill']\n"
     ]
    }
   ],
   "source": [
    "a = \"multicampus\"\n",
    "\n",
    "print(\"cam\" in a)\n",
    "print(a.find(\"cam\"))\n",
    "print(a.rfind(\"cam\"))\n",
    "\n",
    "print(a[a.find(\"cam\"):]) # cam부터 나머지 문자열 출력\n",
    "\n",
    "print(a.count(\"m\")) # m문자 갯수\n",
    "print(len(a)) # 총 문자 갯수\n",
    "print(dir(a)) # str타입 포함 함수 목록 확인"
   ]
  },
  {
   "cell_type": "code",
   "execution_count": 33,
   "id": "d26dde94",
   "metadata": {},
   "outputs": [
    {
     "name": "stdout",
     "output_type": "stream",
     "text": [
      "100은 정수이고 multi는 문자열 입니다.\n",
      "     +3.33\n"
     ]
    }
   ],
   "source": [
    "a = \"multi\"\n",
    "b = \"python\"\n",
    "c = 100\n",
    "\n",
    "print(\"{}은 정수이고 {}는 문자열 입니다.\".format(c, a))\n",
    "\n",
    "#print(\"{:10d}\".format(10/3))\n",
    "\n",
    "print(\"{:+10.2f}\".format(10/3))"
   ]
  },
  {
   "cell_type": "markdown",
   "id": "e8e32760",
   "metadata": {},
   "source": [
    "# 정수 실수 -> 문자열 변환"
   ]
  },
  {
   "cell_type": "code",
   "execution_count": 34,
   "id": "bed23a5b",
   "metadata": {},
   "outputs": [
    {
     "name": "stdout",
     "output_type": "stream",
     "text": [
      "<class 'int'>\n",
      "<class 'str'>\n",
      "abcdef100\n"
     ]
    }
   ],
   "source": [
    "print(type(100))\n",
    "print(type(str(100)))\n",
    "    \n",
    "print(\"abc\"+\"def\"+str(100))"
   ]
  },
  {
   "cell_type": "markdown",
   "id": "2b796515",
   "metadata": {},
   "source": [
    "# 문자열 -> 정수"
   ]
  },
  {
   "cell_type": "code",
   "execution_count": null,
   "id": "951a69ff",
   "metadata": {},
   "outputs": [],
   "source": [
    "#in1 = input('정수 1개를 입력하세요.')\n",
    "#print(in1)\n",
    "\n",
    "fo1 = input('실수 1개를 입력하세요.')\n",
    "print(float(fo1) + int(in1))\n",
    "\n",
    "bo1 = input('논리값 1개를 입력하세요.')\n",
    "print(bool(bo1))"
   ]
  },
  {
   "cell_type": "code",
   "execution_count": 38,
   "id": "3029c646",
   "metadata": {},
   "outputs": [
    {
     "name": "stdout",
     "output_type": "stream",
     "text": [
      "['/Library/Frameworks/Python.framework/Versions/3.9/lib/python3.9/site-packages/ipykernel_launcher.py', '-f', '/Users/melonbottle/Library/Jupyter/runtime/kernel-a6945648-4697-4389-b64d-ac448d824aa3.json']\n"
     ]
    }
   ],
   "source": [
    "import sys\n",
    "print(sys.argv)"
   ]
  },
  {
   "cell_type": "markdown",
   "id": "dc227525",
   "metadata": {},
   "source": [
    "# 모듈"
   ]
  },
  {
   "cell_type": "code",
   "execution_count": 11,
   "id": "e74508dd",
   "metadata": {},
   "outputs": [
    {
     "name": "stdout",
     "output_type": "stream",
     "text": [
      "math.pow(a,b) =  9.0\n",
      "math.trunc(a/b) =  1\n",
      "abs(-10) =  10\n",
      "round(a/b) =  2\n",
      "['ArithmeticError', 'AssertionError', 'AttributeError', 'BaseException', 'BlockingIOError', 'BrokenPipeError', 'BufferError', 'BytesWarning', 'ChildProcessError', 'ConnectionAbortedError', 'ConnectionError', 'ConnectionRefusedError', 'ConnectionResetError', 'DeprecationWarning', 'EOFError', 'Ellipsis', 'EnvironmentError', 'Exception', 'False', 'FileExistsError', 'FileNotFoundError', 'FloatingPointError', 'FutureWarning', 'GeneratorExit', 'IOError', 'ImportError', 'ImportWarning', 'IndentationError', 'IndexError', 'InterruptedError', 'IsADirectoryError', 'KeyError', 'KeyboardInterrupt', 'LookupError', 'MemoryError', 'ModuleNotFoundError', 'NameError', 'None', 'NotADirectoryError', 'NotImplemented', 'NotImplementedError', 'OSError', 'OverflowError', 'PendingDeprecationWarning', 'PermissionError', 'ProcessLookupError', 'RecursionError', 'ReferenceError', 'ResourceWarning', 'RuntimeError', 'RuntimeWarning', 'StopAsyncIteration', 'StopIteration', 'SyntaxError', 'SyntaxWarning', 'SystemError', 'SystemExit', 'TabError', 'TimeoutError', 'True', 'TypeError', 'UnboundLocalError', 'UnicodeDecodeError', 'UnicodeEncodeError', 'UnicodeError', 'UnicodeTranslateError', 'UnicodeWarning', 'UserWarning', 'ValueError', 'Warning', 'ZeroDivisionError', '__IPYTHON__', '__build_class__', '__debug__', '__doc__', '__import__', '__loader__', '__name__', '__package__', '__spec__', 'abs', 'all', 'any', 'ascii', 'bin', 'bool', 'breakpoint', 'bytearray', 'bytes', 'callable', 'chr', 'classmethod', 'compile', 'complex', 'copyright', 'credits', 'delattr', 'dict', 'dir', 'display', 'divmod', 'enumerate', 'eval', 'exec', 'filter', 'float', 'format', 'frozenset', 'get_ipython', 'getattr', 'globals', 'hasattr', 'hash', 'help', 'hex', 'id', 'input', 'int', 'isinstance', 'issubclass', 'iter', 'len', 'license', 'list', 'locals', 'map', 'max', 'memoryview', 'min', 'next', 'object', 'oct', 'open', 'ord', 'pow', 'print', 'property', 'range', 'repr', 'reversed', 'round', 'set', 'setattr', 'slice', 'sorted', 'staticmethod', 'str', 'sum', 'super', 'tuple', 'type', 'vars', 'zip']\n"
     ]
    }
   ],
   "source": [
    "import math\n",
    "\n",
    "a = 3\n",
    "b = 2\n",
    "\n",
    "print(\"math.pow(a,b) = \", math.pow(a,b))\n",
    "print(\"math.trunc(a/b) = \", math.trunc(a/b))\n",
    "\n",
    "# 기본 내장 함수\n",
    "print(\"abs(-10) = \", abs(-10))\n",
    "print(\"round(a/b) = \", round(a/b))\n",
    "\n",
    "# 파이썬 기본 내장 함수 확인\n",
    "print(dir(__builtins__))"
   ]
  },
  {
   "cell_type": "code",
   "execution_count": null,
   "id": "9c37f51e",
   "metadata": {},
   "outputs": [],
   "source": []
  }
 ],
 "metadata": {
  "kernelspec": {
   "display_name": "Python 3",
   "language": "python",
   "name": "python3"
  },
  "language_info": {
   "codemirror_mode": {
    "name": "ipython",
    "version": 3
   },
   "file_extension": ".py",
   "mimetype": "text/x-python",
   "name": "python",
   "nbconvert_exporter": "python",
   "pygments_lexer": "ipython3",
   "version": "3.9.4"
  }
 },
 "nbformat": 4,
 "nbformat_minor": 5
}
