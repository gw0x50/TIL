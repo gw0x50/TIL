{
 "cells": [
  {
   "cell_type": "markdown",
   "id": "133f4d68",
   "metadata": {},
   "source": [
    "# 변수 연산자 조건문 반복문 문법"
   ]
  },
  {
   "cell_type": "code",
   "execution_count": 2,
   "id": "3807a59e",
   "metadata": {},
   "outputs": [
    {
     "name": "stdout",
     "output_type": "stream",
     "text": [
      "None\n",
      "<class 'NoneType'>\n",
      "30\n",
      "<class 'int'>\n",
      "3.14\n",
      "<class 'float'>\n",
      "True\n",
      "<class 'bool'>\n",
      "abc\n",
      "<class 'str'>\n",
      "abc\n",
      "<class 'str'>\n"
     ]
    }
   ],
   "source": [
    "# int i = 10 # Java\n",
    "# let j = 20 # JavaScript\n",
    "\n",
    "k = None\n",
    "print(k)\n",
    "print(type(k))\n",
    "\n",
    "k = 30\n",
    "print(k)\n",
    "print(type(k))\n",
    "\n",
    "k = 3.14\n",
    "print(k)\n",
    "print(type(k))\n",
    "\n",
    "k = True\n",
    "print(k)\n",
    "print(type(k))\n",
    "\n",
    "k = 'abc'\n",
    "print(k)\n",
    "print(type(k))\n",
    "\n",
    "k\n",
    "print(k)\n",
    "print(type(k))"
   ]
  },
  {
   "cell_type": "markdown",
   "id": "1bdfa778",
   "metadata": {},
   "source": [
    "# 숫자 연산자"
   ]
  },
  {
   "cell_type": "code",
   "execution_count": 7,
   "id": "64bb370e",
   "metadata": {},
   "outputs": [
    {
     "name": "stdout",
     "output_type": "stream",
     "text": [
      "a / b =  3.3333333333333335\n",
      "a // b =  3\n",
      "a % b =  1\n",
      "a를 2진수로 =  0b1010\n",
      "a를 8진수로 =  0xa\n",
      "a를 16진수로 =  0o12\n",
      "3.14 - 3.04 =  0.10000000000000009\n"
     ]
    }
   ],
   "source": [
    "a = 10\n",
    "b = 3\n",
    "print(\"a / b = \", a/b) #실수몫\n",
    "print(\"a // b = \", a//b) #정수몫\n",
    "print(\"a % b = \", a%b) #정수몫을 구한 이후 나머지\n",
    "print(\"a를 2진수로 = \", bin(a))\n",
    "print(\"a를 8진수로 = \", hex(a))\n",
    "print(\"a를 16진수로 = \", oct(a))\n",
    "\n",
    "print(\"3.14 - 3.04 = \", 3.14 - 3.04) #오차범위"
   ]
  },
  {
   "cell_type": "markdown",
   "id": "2d9e1632",
   "metadata": {},
   "source": [
    "# 문자 연산자"
   ]
  },
  {
   "cell_type": "code",
   "execution_count": 24,
   "id": "8fac8aad",
   "metadata": {},
   "outputs": [
    {
     "name": "stdout",
     "output_type": "stream",
     "text": [
      "c\n",
      "c\n",
      "abc\n",
      "c\n",
      "abcdef\n",
      "abcabcabc\n",
      "한 개의 문자열로 취급하기 한 개의 문자열로 취급하기 한 개의 문자열로 취급하기\n"
     ]
    }
   ],
   "source": [
    "a = \"abc\"\n",
    "b = 'def'\n",
    "c = 100\n",
    "\n",
    "print(a[2:4]) # 2번 부터 4번 인덱스 이전까지 문자열\n",
    "print(a[2:]) # 2번 부터 나머지 문자열\n",
    "print(a[:4]) # 0번 부터 4번 인덱스 이전까지 문자열\n",
    "print(a[-1:4])\n",
    "\n",
    "print(a+b) # 문자 결합\n",
    "print(a*3) # 문자*int 문자를 int 반복\n",
    "\n",
    "d = '''한 개의 문자열로 취급하기 한 개의 문자열로 취급하기 한 개의 문자열로 취급하기'''\n",
    "print(d)"
   ]
  },
  {
   "cell_type": "code",
   "execution_count": 28,
   "id": "f6c2523d",
   "metadata": {},
   "outputs": [
    {
     "name": "stdout",
     "output_type": "stream",
     "text": [
      "True\n",
      "5\n",
      "5\n",
      "campus\n",
      "2\n",
      "11\n",
      "['__add__', '__class__', '__contains__', '__delattr__', '__dir__', '__doc__', '__eq__', '__format__', '__ge__', '__getattribute__', '__getitem__', '__getnewargs__', '__gt__', '__hash__', '__init__', '__init_subclass__', '__iter__', '__le__', '__len__', '__lt__', '__mod__', '__mul__', '__ne__', '__new__', '__reduce__', '__reduce_ex__', '__repr__', '__rmod__', '__rmul__', '__setattr__', '__sizeof__', '__str__', '__subclasshook__', 'capitalize', 'casefold', 'center', 'count', 'encode', 'endswith', 'expandtabs', 'find', 'format', 'format_map', 'index', 'isalnum', 'isalpha', 'isascii', 'isdecimal', 'isdigit', 'isidentifier', 'islower', 'isnumeric', 'isprintable', 'isspace', 'istitle', 'isupper', 'join', 'ljust', 'lower', 'lstrip', 'maketrans', 'partition', 'removeprefix', 'removesuffix', 'replace', 'rfind', 'rindex', 'rjust', 'rpartition', 'rsplit', 'rstrip', 'split', 'splitlines', 'startswith', 'strip', 'swapcase', 'title', 'translate', 'upper', 'zfill']\n"
     ]
    }
   ],
   "source": [
    "a = \"multicampus\"\n",
    "\n",
    "print(\"cam\" in a)\n",
    "print(a.find(\"cam\"))\n",
    "print(a.rfind(\"cam\"))\n",
    "\n",
    "print(a[a.find(\"cam\"):]) # cam부터 나머지 문자열 출력\n",
    "\n",
    "print(a.count(\"m\")) # m문자 갯수\n",
    "print(len(a)) # 총 문자 갯수\n",
    "print(dir(a)) # str타입 포함 함수 목록 확인"
   ]
  },
  {
   "cell_type": "code",
   "execution_count": 33,
   "id": "d26dde94",
   "metadata": {},
   "outputs": [
    {
     "name": "stdout",
     "output_type": "stream",
     "text": [
      "100은 정수이고 multi는 문자열 입니다.\n",
      "     +3.33\n"
     ]
    }
   ],
   "source": [
    "a = \"multi\"\n",
    "b = \"python\"\n",
    "c = 100\n",
    "\n",
    "print(\"{}은 정수이고 {}는 문자열 입니다.\".format(c, a))\n",
    "\n",
    "#print(\"{:10d}\".format(10/3))\n",
    "\n",
    "print(\"{:+10.2f}\".format(10/3))"
   ]
  },
  {
   "cell_type": "markdown",
   "id": "e8e32760",
   "metadata": {},
   "source": [
    "# 정수 실수 -> 문자열 변환"
   ]
  },
  {
   "cell_type": "code",
   "execution_count": 34,
   "id": "bed23a5b",
   "metadata": {},
   "outputs": [
    {
     "name": "stdout",
     "output_type": "stream",
     "text": [
      "<class 'int'>\n",
      "<class 'str'>\n",
      "abcdef100\n"
     ]
    }
   ],
   "source": [
    "print(type(100))\n",
    "print(type(str(100)))\n",
    "    \n",
    "print(\"abc\"+\"def\"+str(100))"
   ]
  },
  {
   "cell_type": "markdown",
   "id": "2b796515",
   "metadata": {},
   "source": [
    "# 문자열 -> 정수"
   ]
  },
  {
   "cell_type": "code",
   "execution_count": null,
   "id": "951a69ff",
   "metadata": {},
   "outputs": [],
   "source": [
    "#in1 = input('정수 1개를 입력하세요.')\n",
    "#print(in1)\n",
    "\n",
    "fo1 = input('실수 1개를 입력하세요.')\n",
    "print(float(fo1) + int(in1))\n",
    "\n",
    "bo1 = input('논리값 1개를 입력하세요.')\n",
    "print(bool(bo1))"
   ]
  },
  {
   "cell_type": "code",
   "execution_count": 38,
   "id": "3029c646",
   "metadata": {},
   "outputs": [
    {
     "name": "stdout",
     "output_type": "stream",
     "text": [
      "['/Library/Frameworks/Python.framework/Versions/3.9/lib/python3.9/site-packages/ipykernel_launcher.py', '-f', '/Users/melonbottle/Library/Jupyter/runtime/kernel-a6945648-4697-4389-b64d-ac448d824aa3.json']\n"
     ]
    }
   ],
   "source": [
    "import sys\n",
    "print(sys.argv)"
   ]
  },
  {
   "cell_type": "markdown",
   "id": "b9b82632",
   "metadata": {},
   "source": [
    "# 리스트, 튜블, 셋, 딕셔너리"
   ]
  },
  {
   "cell_type": "markdown",
   "id": "bae134f0",
   "metadata": {},
   "source": [
    "### 리스트 = 자바 동적 / 여러가지 타입 리스트 / 파이썬 여러 타입 데이터 저장"
   ]
  },
  {
   "cell_type": "code",
   "execution_count": 17,
   "id": "76a0d319",
   "metadata": {},
   "outputs": [
    {
     "name": "stdout",
     "output_type": "stream",
     "text": [
      "<class 'list'>\n",
      "title\n",
      "[30, 45000.99]\n",
      "[1, 2, 3, 4, 5, 'title', 30, 45000.99, True, [90, 80, 70]]\n",
      "[1, 2, 3, 4, 5, 1, 2, 3, 4, 5, 1, 2, 3, 4, 5, 1, 2, 3, 4, 5, 1, 2, 3, 4, 5]\n",
      "True\n",
      "5\n",
      "3\n",
      "6\n",
      "100\n",
      "6\n",
      "30\n",
      "['title', 30, 45000.99, True, [90, 80, 70], 100]\n",
      "['title', 300, 45000.99, True, [90, 80, 70], 100]\n",
      "['title', 300, 45000.99, True, [90, 80, 70]]\n",
      "['title', 300, 45000.99, True, [90, 80, 70]]\n",
      "[300, 45000.99, True, [90, 80, 70]]\n",
      "[5, 4, 3, 2, 1]\n",
      "[1, 2, 3, 4, 5]\n",
      "<class 'set'>\n",
      "<class 'dict'>\n",
      "<class 'tuple'>\n"
     ]
    }
   ],
   "source": [
    "a1=[1,2,3,4,5]\n",
    "a2 = [\"title\", 30, 45000.99, True, [90, 80, 70]]\n",
    "print(type(a2))\n",
    "print(a2[0])\n",
    "print(a2[1:3])\n",
    "print(a1 + a2)\n",
    "print(a1 * 5)\n",
    "print(1 in a1) # True\n",
    "\n",
    "print(len(a2))\n",
    "print(len(a2[4]))\n",
    "\n",
    "a2.append(100)\n",
    "print(len(a2))\n",
    "print(a2[5])\n",
    "\n",
    "a.insert(1, 200) # 추가\n",
    "print(len(a2))\n",
    "print(a2[1])\n",
    "\n",
    "print(a2)\n",
    "\n",
    "a2[1] = 300 # 변경\n",
    "print(a2)\n",
    "\n",
    "a2.pop() # 리스트 마지막 데이터 삭제\n",
    "print(a2)\n",
    "\n",
    "a2.append(30)\n",
    "a2.remove(30) # 존재하는 데이터 삭제\n",
    "print(a2)\n",
    "\n",
    "del a2[0] # 0번 인덱스 데이터 삭제\n",
    "print(a2)\n",
    "\n",
    "a1.reverse()\n",
    "print(a1)\n",
    "\n",
    "a1.sort()\n",
    "print(a1)"
   ]
  },
  {
   "cell_type": "markdown",
   "id": "531a45b8",
   "metadata": {},
   "source": [
    "### 튜블 = 값을 변경할 수 없는 리스트\n",
    "### 함수 리턴 값 - 여러 개 튜플"
   ]
  },
  {
   "cell_type": "code",
   "execution_count": 19,
   "id": "bc6594c4",
   "metadata": {},
   "outputs": [
    {
     "name": "stdout",
     "output_type": "stream",
     "text": [
      "<class 'tuple'>\n",
      "(1, 2, 3, 4, 5)\n",
      "<class 'tuple'>\n",
      "(1, 2, 3, 4, 5)\n"
     ]
    }
   ],
   "source": [
    "a = (1,2,3,4,5)\n",
    "print(type(a))\n",
    "print(a)\n",
    "\n",
    "a = 1,2\n",
    "print(type(a))\n",
    "print(a)"
   ]
  },
  {
   "cell_type": "markdown",
   "id": "86079ad8",
   "metadata": {},
   "source": [
    "### 셋"
   ]
  },
  {
   "cell_type": "code",
   "execution_count": 23,
   "id": "b534daa6",
   "metadata": {},
   "outputs": [
    {
     "name": "stdout",
     "output_type": "stream",
     "text": [
      "<class 'set'>\n",
      "5\n",
      "{1, 2, 3, 4, 5}\n"
     ]
    }
   ],
   "source": [
    "b = {1,2,3,4,5,5}\n",
    "print(type(b))\n",
    "print(len(b))\n",
    "print(b)"
   ]
  },
  {
   "cell_type": "markdown",
   "id": "c967d820",
   "metadata": {},
   "source": [
    "### 딕셔너리 = 자바.map (key, value)"
   ]
  },
  {
   "cell_type": "code",
   "execution_count": 27,
   "id": "3ba80519",
   "metadata": {},
   "outputs": [
    {
     "name": "stdout",
     "output_type": "stream",
     "text": [
      "<class 'dict'>\n",
      "dict_items([('name', 'lee'), ('2', 200), ('id', 'lee')])\n",
      "dict_keys(['name', '2', 'id'])\n",
      "dict_values(['lee', 200, 'lee'])\n",
      "dict_items([('name', 'lee'), ('2', 200), ('id', 'python'), ('email', 'a@aa.com')])\n",
      "['a.png', 'b.png']\n",
      "dict_items([('title', '제목'), ('files', ['a.png', 'b.png'])])\n"
     ]
    }
   ],
   "source": [
    "c = {\"name\":\"lee\", \"2\":200, 'id':'lee'}\n",
    "print(type(c))\n",
    "print(c.items())\n",
    "print(c.keys())\n",
    "print(c.values())\n",
    "\n",
    "c['id']='python'\n",
    "c['email']='a@aa.com'\n",
    "print(c.items())\n",
    "\n",
    "d = {'seq':1, 'title':'제목','files':['a.png', 'b.png']}\n",
    "print(d['files'])\n",
    "\n",
    "d.pop('seq')\n",
    "print(d.items())"
   ]
  },
  {
   "cell_type": "markdown",
   "id": "f41c8eb3",
   "metadata": {},
   "source": [
    "# 조건문 반복문 함수 클래스 - 들여쓰기 필수"
   ]
  },
  {
   "cell_type": "markdown",
   "id": "61b50939",
   "metadata": {},
   "source": [
    "### 조건문"
   ]
  },
  {
   "cell_type": "code",
   "execution_count": 33,
   "id": "de7ee882",
   "metadata": {},
   "outputs": [
    {
     "name": "stdout",
     "output_type": "stream",
     "text": [
      "1\n",
      "200\n",
      "200\n"
     ]
    }
   ],
   "source": [
    "if 10 > 5 :\n",
    "    print(1)\n",
    "    print(200)\n",
    "else :\n",
    "    print(2)\n",
    "print(200)"
   ]
  },
  {
   "cell_type": "markdown",
   "id": "5993fa2a",
   "metadata": {},
   "source": [
    "### 반복문"
   ]
  },
  {
   "cell_type": "code",
   "execution_count": 47,
   "id": "e6ba91fc",
   "metadata": {},
   "outputs": [
    {
     "name": "stdout",
     "output_type": "stream",
     "text": [
      "1\n",
      "1\n",
      "2\n",
      "3\n",
      "3\n",
      "6\n",
      "4\n",
      "10\n",
      "5\n",
      "15\n",
      "6\n",
      "21\n",
      "7\n",
      "28\n",
      "8\n",
      "36\n",
      "9\n",
      "45\n",
      "10\n",
      "55\n"
     ]
    }
   ],
   "source": [
    "count = 1\n",
    "total = 0\n",
    "\n",
    "while count <= 10 :\n",
    "    print(count)\n",
    "    total += count\n",
    "    print(total)\n",
    "    count += 1"
   ]
  },
  {
   "cell_type": "code",
   "execution_count": 61,
   "id": "9afe65b4",
   "metadata": {},
   "outputs": [
    {
     "name": "stdout",
     "output_type": "stream",
     "text": [
      "0\n",
      "1\n",
      "2\n",
      "3\n",
      "4\n",
      "5\n",
      "6\n",
      "7\n",
      "8\n",
      "9\n",
      "10\n",
      "[1, 2, 3, 4, 5]\n",
      "1\n",
      "2\n",
      "3\n",
      "4\n",
      "5\n",
      "1\n",
      "2\n",
      "3\n",
      "4\n",
      "5\n",
      "k1\n",
      "k2\n"
     ]
    }
   ],
   "source": [
    "for i in range(11) :\n",
    "    print(i)\n",
    "    \n",
    "a = [1,2,3,4,5]\n",
    "print(a)\n",
    "\n",
    "for i in a :\n",
    "    print(i)\n",
    "    \n",
    "for i in [1,2,3,4,5] :\n",
    "    print(i)\n",
    "    \n",
    "for i in {'k1':1, 'k2':'k2'} :\n",
    "    print(i)"
   ]
  },
  {
   "cell_type": "markdown",
   "id": "dc227525",
   "metadata": {},
   "source": [
    "# 모듈"
   ]
  },
  {
   "cell_type": "code",
   "execution_count": 11,
   "id": "e74508dd",
   "metadata": {},
   "outputs": [
    {
     "name": "stdout",
     "output_type": "stream",
     "text": [
      "math.pow(a,b) =  9.0\n",
      "math.trunc(a/b) =  1\n",
      "abs(-10) =  10\n",
      "round(a/b) =  2\n",
      "['ArithmeticError', 'AssertionError', 'AttributeError', 'BaseException', 'BlockingIOError', 'BrokenPipeError', 'BufferError', 'BytesWarning', 'ChildProcessError', 'ConnectionAbortedError', 'ConnectionError', 'ConnectionRefusedError', 'ConnectionResetError', 'DeprecationWarning', 'EOFError', 'Ellipsis', 'EnvironmentError', 'Exception', 'False', 'FileExistsError', 'FileNotFoundError', 'FloatingPointError', 'FutureWarning', 'GeneratorExit', 'IOError', 'ImportError', 'ImportWarning', 'IndentationError', 'IndexError', 'InterruptedError', 'IsADirectoryError', 'KeyError', 'KeyboardInterrupt', 'LookupError', 'MemoryError', 'ModuleNotFoundError', 'NameError', 'None', 'NotADirectoryError', 'NotImplemented', 'NotImplementedError', 'OSError', 'OverflowError', 'PendingDeprecationWarning', 'PermissionError', 'ProcessLookupError', 'RecursionError', 'ReferenceError', 'ResourceWarning', 'RuntimeError', 'RuntimeWarning', 'StopAsyncIteration', 'StopIteration', 'SyntaxError', 'SyntaxWarning', 'SystemError', 'SystemExit', 'TabError', 'TimeoutError', 'True', 'TypeError', 'UnboundLocalError', 'UnicodeDecodeError', 'UnicodeEncodeError', 'UnicodeError', 'UnicodeTranslateError', 'UnicodeWarning', 'UserWarning', 'ValueError', 'Warning', 'ZeroDivisionError', '__IPYTHON__', '__build_class__', '__debug__', '__doc__', '__import__', '__loader__', '__name__', '__package__', '__spec__', 'abs', 'all', 'any', 'ascii', 'bin', 'bool', 'breakpoint', 'bytearray', 'bytes', 'callable', 'chr', 'classmethod', 'compile', 'complex', 'copyright', 'credits', 'delattr', 'dict', 'dir', 'display', 'divmod', 'enumerate', 'eval', 'exec', 'filter', 'float', 'format', 'frozenset', 'get_ipython', 'getattr', 'globals', 'hasattr', 'hash', 'help', 'hex', 'id', 'input', 'int', 'isinstance', 'issubclass', 'iter', 'len', 'license', 'list', 'locals', 'map', 'max', 'memoryview', 'min', 'next', 'object', 'oct', 'open', 'ord', 'pow', 'print', 'property', 'range', 'repr', 'reversed', 'round', 'set', 'setattr', 'slice', 'sorted', 'staticmethod', 'str', 'sum', 'super', 'tuple', 'type', 'vars', 'zip']\n"
     ]
    }
   ],
   "source": [
    "import math\n",
    "\n",
    "a = 3\n",
    "b = 2\n",
    "\n",
    "print(\"math.pow(a,b) = \", math.pow(a,b))\n",
    "print(\"math.trunc(a/b) = \", math.trunc(a/b))\n",
    "\n",
    "# 기본 내장 함수\n",
    "print(\"abs(-10) = \", abs(-10))\n",
    "print(\"round(a/b) = \", round(a/b))\n",
    "\n",
    "# 파이썬 기본 내장 함수 확인\n",
    "print(dir(__builtins__))"
   ]
  },
  {
   "cell_type": "markdown",
   "id": "a8a3138e",
   "metadata": {},
   "source": [
    "# 함수"
   ]
  },
  {
   "cell_type": "code",
   "execution_count": 70,
   "id": "53c8b87d",
   "metadata": {},
   "outputs": [
    {
     "name": "stdout",
     "output_type": "stream",
     "text": [
      "hello\n",
      "hello\n",
      "hello\n",
      "hi\n",
      "hi\n",
      "hi\n",
      "hiii\n",
      "hiii\n",
      "hiii\n",
      "hiii\n",
      "hiii\n",
      "python\n",
      "python\n",
      "python\n",
      "python\n",
      "python\n",
      "python\n",
      "python\n",
      "python\n",
      "python\n",
      "python\n",
      "python\n",
      "css\n",
      "spring\n"
     ]
    }
   ],
   "source": [
    "def hello_3times() :\n",
    "    print('hello')\n",
    "    print('hello')\n",
    "    print('hello')\n",
    "    \n",
    "hello_3times()\n",
    "\n",
    "def message_3times(message) :\n",
    "    print(message)\n",
    "    print(message)\n",
    "    print(message)\n",
    "    \n",
    "message_3times('hi')\n",
    "\n",
    "def message_ntimes(message, n) :\n",
    "    for i in range(1, n+1, 1) :\n",
    "        print(message)\n",
    "        \n",
    "message_ntimes('hiii', 5)\n",
    "\n",
    "def basic_ntimes(message='java', n=5) :\n",
    "    for i in range(1, n+1, 1) :\n",
    "        print(message)\n",
    "        \n",
    "basic_ntimes(n=10, message='python')\n",
    "\n",
    "def dyniamic_message(*msg) :\n",
    "    for i in msg :\n",
    "        print(i)\n",
    "    \n",
    "dyniamic_message('python', 'css', 'spring')"
   ]
  },
  {
   "cell_type": "markdown",
   "id": "1030aeda",
   "metadata": {},
   "source": [
    "# a변수에 사용자 입력 값 저장. 0이면 프로그램 종료하고, 아니면 3 / a 출력"
   ]
  },
  {
   "cell_type": "code",
   "execution_count": 36,
   "id": "3df05344",
   "metadata": {},
   "outputs": [
    {
     "name": "stdout",
     "output_type": "stream",
     "text": [
      "3\n",
      "3을 3로 나눈 결과는 1.0입니다.\n"
     ]
    }
   ],
   "source": [
    "a = input()\n",
    "a = int(a)\n",
    "if a == 0 :\n",
    "    print('0으로 나누기 불가')\n",
    "    print('프로그램 종료')\n",
    "else :\n",
    "    print('3을 {}로 나눈 결과는 {}입니다.'.format(a, 3/a))"
   ]
  },
  {
   "cell_type": "markdown",
   "id": "73f49428",
   "metadata": {},
   "source": [
    "# 성적"
   ]
  },
  {
   "cell_type": "code",
   "execution_count": 38,
   "id": "a618bbbf",
   "metadata": {},
   "outputs": [
    {
     "name": "stdout",
     "output_type": "stream",
     "text": [
      "\n"
     ]
    }
   ],
   "source": [
    "import sys\n",
    "\n",
    "kor = int(sys.argv[1])\n",
    "mat = int(sys.argv[2])\n",
    "eng = int(sys.argv[3])\n",
    "\n",
    "total = kor + mat + eng\n",
    "avg = total / 3\n",
    "\n",
    "if avg >= 90 :\n",
    "    grade = 'A'\n",
    "if avg >= 80 :\n",
    "    grade = 'B'\n",
    "if avg >= 70 :\n",
    "    grade = 'C'\n",
    "if avg >= 60 :\n",
    "    grade = 'D'\n",
    "else :\n",
    "    grade = 'F'\n",
    "    \n",
    "print(grade)"
   ]
  },
  {
   "cell_type": "markdown",
   "id": "ceffe922",
   "metadata": {},
   "source": [
    "# 짝수 홀수 검사(정수)"
   ]
  },
  {
   "cell_type": "code",
   "execution_count": 45,
   "id": "17e601b4",
   "metadata": {},
   "outputs": [
    {
     "name": "stdout",
     "output_type": "stream",
     "text": [
      "7\n",
      "홀수\n"
     ]
    }
   ],
   "source": [
    "import random\n",
    "\n",
    "# num = random.randint(1, 100)\n",
    "num = random.randrange(1, 101)\n",
    "print(num)\n",
    "\n",
    "if num % 2 == 0 :\n",
    "    print('짝수')\n",
    "else :\n",
    "    print('홀수')"
   ]
  },
  {
   "cell_type": "markdown",
   "id": "0812c226",
   "metadata": {},
   "source": [
    "# 짝수 홀수 검사(직접 입력)"
   ]
  },
  {
   "cell_type": "code",
   "execution_count": null,
   "id": "24d4094b",
   "metadata": {},
   "outputs": [],
   "source": [
    "num = input('정수를 입력하세요.')\n",
    "print(num[len(num)-1])\n",
    "\n",
    "if num in '02468' :\n",
    "    print('짝수')\n",
    "elif num in '13579' :\n",
    "    print('홀수')\n",
    "else : \n",
    "    print(\"정수 형태의 데이터가 아닙니다.\")"
   ]
  },
  {
   "cell_type": "markdown",
   "id": "900078cc",
   "metadata": {},
   "source": [
    "# 숫자 맞추기 예제"
   ]
  },
  {
   "cell_type": "code",
   "execution_count": null,
   "id": "485d4c56",
   "metadata": {},
   "outputs": [],
   "source": [
    "mynum = 50\n",
    "while True :\n",
    "    yournum = int(input())\n",
    "    if yournum > mynum :\n",
    "        print('작은 숫자를 생각해보세요.')\n",
    "    elif yournum < mynum :\n",
    "        print('큰 숫자를 생각해보세요.')\n",
    "    else :\n",
    "        print('맞췄습니다!')\n",
    "        break"
   ]
  },
  {
   "cell_type": "markdown",
   "id": "6b32e11c",
   "metadata": {},
   "source": [
    "# 로또 예제"
   ]
  },
  {
   "cell_type": "code",
   "execution_count": 51,
   "id": "c429dfbd",
   "metadata": {},
   "outputs": [
    {
     "name": "stdout",
     "output_type": "stream",
     "text": [
      "{32, 33, 35, 37, 6, 21}\n"
     ]
    }
   ],
   "source": [
    "lottoset = set()\n",
    "while len(lottoset) < 6 :\n",
    "    lottoset.add(random.randint(1, 45))\n",
    "print(lottoset)"
   ]
  },
  {
   "cell_type": "code",
   "execution_count": null,
   "id": "c42ea1d4",
   "metadata": {},
   "outputs": [],
   "source": []
  }
 ],
 "metadata": {
  "kernelspec": {
   "display_name": "Python 3",
   "language": "python",
   "name": "python3"
  },
  "language_info": {
   "codemirror_mode": {
    "name": "ipython",
    "version": 3
   },
   "file_extension": ".py",
   "mimetype": "text/x-python",
   "name": "python",
   "nbconvert_exporter": "python",
   "pygments_lexer": "ipython3",
   "version": "3.9.4"
  }
 },
 "nbformat": 4,
 "nbformat_minor": 5
}
