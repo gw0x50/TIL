{
 "cells": [
  {
   "cell_type": "markdown",
   "id": "17b44f3c",
   "metadata": {},
   "source": [
    "# 피벗 테이블"
   ]
  },
  {
   "cell_type": "code",
   "execution_count": 3,
   "id": "bb66a5db",
   "metadata": {},
   "outputs": [],
   "source": [
    "import pandas as pd\n",
    "import numpy as np"
   ]
  },
  {
   "cell_type": "code",
   "execution_count": 6,
   "id": "edc498e0",
   "metadata": {},
   "outputs": [],
   "source": [
    "data = {\n",
    "    '도시':['서울', '서울', '서울', '부산', '부산', '부산', '인천', '인천'],\n",
    "    '연도':['2015', '2010','2005','2015','2010','2005','2015','2010'],\n",
    "    '인구':[99393938, 99393938,  99393938, 99393938, 99393938, 99393938, 99393938, 99393938],\n",
    "    '지역':['수도권', '수도권', '수도권', '경상권', '경상권', '경상권', '수도권', '수도권']\n",
    "}\n",
    "\n",
    "df = pd.DataFrame(data)"
   ]
  },
  {
   "cell_type": "markdown",
   "id": "c27610af",
   "metadata": {},
   "source": [
    "## 도시별 연도별 인구수"
   ]
  },
  {
   "cell_type": "code",
   "execution_count": 7,
   "id": "3fe090a8",
   "metadata": {},
   "outputs": [
    {
     "data": {
      "text/html": [
       "<div>\n",
       "<style scoped>\n",
       "    .dataframe tbody tr th:only-of-type {\n",
       "        vertical-align: middle;\n",
       "    }\n",
       "\n",
       "    .dataframe tbody tr th {\n",
       "        vertical-align: top;\n",
       "    }\n",
       "\n",
       "    .dataframe thead th {\n",
       "        text-align: right;\n",
       "    }\n",
       "</style>\n",
       "<table border=\"1\" class=\"dataframe\">\n",
       "  <thead>\n",
       "    <tr style=\"text-align: right;\">\n",
       "      <th>연도</th>\n",
       "      <th>2005</th>\n",
       "      <th>2010</th>\n",
       "      <th>2015</th>\n",
       "    </tr>\n",
       "    <tr>\n",
       "      <th>도시</th>\n",
       "      <th></th>\n",
       "      <th></th>\n",
       "      <th></th>\n",
       "    </tr>\n",
       "  </thead>\n",
       "  <tbody>\n",
       "    <tr>\n",
       "      <th>부산</th>\n",
       "      <td>99393938.0</td>\n",
       "      <td>99393938.0</td>\n",
       "      <td>99393938.0</td>\n",
       "    </tr>\n",
       "    <tr>\n",
       "      <th>서울</th>\n",
       "      <td>99393938.0</td>\n",
       "      <td>99393938.0</td>\n",
       "      <td>99393938.0</td>\n",
       "    </tr>\n",
       "    <tr>\n",
       "      <th>인천</th>\n",
       "      <td>NaN</td>\n",
       "      <td>99393938.0</td>\n",
       "      <td>99393938.0</td>\n",
       "    </tr>\n",
       "  </tbody>\n",
       "</table>\n",
       "</div>"
      ],
      "text/plain": [
       "연도        2005        2010        2015\n",
       "도시                                    \n",
       "부산  99393938.0  99393938.0  99393938.0\n",
       "서울  99393938.0  99393938.0  99393938.0\n",
       "인천         NaN  99393938.0  99393938.0"
      ]
     },
     "execution_count": 7,
     "metadata": {},
     "output_type": "execute_result"
    }
   ],
   "source": [
    "df.pivot('도시', '연도', '인구')"
   ]
  },
  {
   "cell_type": "code",
   "execution_count": 8,
   "id": "d3959e0d",
   "metadata": {},
   "outputs": [
    {
     "data": {
      "text/html": [
       "<div>\n",
       "<style scoped>\n",
       "    .dataframe tbody tr th:only-of-type {\n",
       "        vertical-align: middle;\n",
       "    }\n",
       "\n",
       "    .dataframe tbody tr th {\n",
       "        vertical-align: top;\n",
       "    }\n",
       "\n",
       "    .dataframe thead th {\n",
       "        text-align: right;\n",
       "    }\n",
       "</style>\n",
       "<table border=\"1\" class=\"dataframe\">\n",
       "  <thead>\n",
       "    <tr style=\"text-align: right;\">\n",
       "      <th>연도</th>\n",
       "      <th>2005</th>\n",
       "      <th>2010</th>\n",
       "      <th>2015</th>\n",
       "    </tr>\n",
       "    <tr>\n",
       "      <th>도시</th>\n",
       "      <th></th>\n",
       "      <th></th>\n",
       "      <th></th>\n",
       "    </tr>\n",
       "  </thead>\n",
       "  <tbody>\n",
       "    <tr>\n",
       "      <th>부산</th>\n",
       "      <td>99393938.0</td>\n",
       "      <td>99393938.0</td>\n",
       "      <td>99393938.0</td>\n",
       "    </tr>\n",
       "    <tr>\n",
       "      <th>서울</th>\n",
       "      <td>99393938.0</td>\n",
       "      <td>99393938.0</td>\n",
       "      <td>99393938.0</td>\n",
       "    </tr>\n",
       "    <tr>\n",
       "      <th>인천</th>\n",
       "      <td>NaN</td>\n",
       "      <td>99393938.0</td>\n",
       "      <td>99393938.0</td>\n",
       "    </tr>\n",
       "  </tbody>\n",
       "</table>\n",
       "</div>"
      ],
      "text/plain": [
       "연도        2005        2010        2015\n",
       "도시                                    \n",
       "부산  99393938.0  99393938.0  99393938.0\n",
       "서울  99393938.0  99393938.0  99393938.0\n",
       "인천         NaN  99393938.0  99393938.0"
      ]
     },
     "execution_count": 8,
     "metadata": {},
     "output_type": "execute_result"
    }
   ],
   "source": [
    "df.pivot_table('인구', '도시', '연도')"
   ]
  },
  {
   "cell_type": "code",
   "execution_count": 9,
   "id": "0651ed4e",
   "metadata": {
    "scrolled": true
   },
   "outputs": [
    {
     "data": {
      "text/html": [
       "<div>\n",
       "<style scoped>\n",
       "    .dataframe tbody tr th:only-of-type {\n",
       "        vertical-align: middle;\n",
       "    }\n",
       "\n",
       "    .dataframe tbody tr th {\n",
       "        vertical-align: top;\n",
       "    }\n",
       "\n",
       "    .dataframe thead th {\n",
       "        text-align: right;\n",
       "    }\n",
       "</style>\n",
       "<table border=\"1\" class=\"dataframe\">\n",
       "  <thead>\n",
       "    <tr style=\"text-align: right;\">\n",
       "      <th>연도</th>\n",
       "      <th>2005</th>\n",
       "      <th>2010</th>\n",
       "      <th>2015</th>\n",
       "      <th>평균</th>\n",
       "    </tr>\n",
       "    <tr>\n",
       "      <th>도시</th>\n",
       "      <th></th>\n",
       "      <th></th>\n",
       "      <th></th>\n",
       "      <th></th>\n",
       "    </tr>\n",
       "  </thead>\n",
       "  <tbody>\n",
       "    <tr>\n",
       "      <th>부산</th>\n",
       "      <td>99393938.0</td>\n",
       "      <td>99393938.0</td>\n",
       "      <td>99393938.0</td>\n",
       "      <td>99393938</td>\n",
       "    </tr>\n",
       "    <tr>\n",
       "      <th>서울</th>\n",
       "      <td>99393938.0</td>\n",
       "      <td>99393938.0</td>\n",
       "      <td>99393938.0</td>\n",
       "      <td>99393938</td>\n",
       "    </tr>\n",
       "    <tr>\n",
       "      <th>인천</th>\n",
       "      <td>NaN</td>\n",
       "      <td>99393938.0</td>\n",
       "      <td>99393938.0</td>\n",
       "      <td>99393938</td>\n",
       "    </tr>\n",
       "    <tr>\n",
       "      <th>평균</th>\n",
       "      <td>99393938.0</td>\n",
       "      <td>99393938.0</td>\n",
       "      <td>99393938.0</td>\n",
       "      <td>99393938</td>\n",
       "    </tr>\n",
       "  </tbody>\n",
       "</table>\n",
       "</div>"
      ],
      "text/plain": [
       "연도        2005        2010        2015        평균\n",
       "도시                                              \n",
       "부산  99393938.0  99393938.0  99393938.0  99393938\n",
       "서울  99393938.0  99393938.0  99393938.0  99393938\n",
       "인천         NaN  99393938.0  99393938.0  99393938\n",
       "평균  99393938.0  99393938.0  99393938.0  99393938"
      ]
     },
     "execution_count": 9,
     "metadata": {},
     "output_type": "execute_result"
    }
   ],
   "source": [
    "df.pivot_table('인구', '도시', '연도', margins_name = '평균', margins = True)"
   ]
  },
  {
   "cell_type": "code",
   "execution_count": 13,
   "id": "fc839c18",
   "metadata": {
    "scrolled": true
   },
   "outputs": [
    {
     "data": {
      "text/html": [
       "<div>\n",
       "<style scoped>\n",
       "    .dataframe tbody tr th:only-of-type {\n",
       "        vertical-align: middle;\n",
       "    }\n",
       "\n",
       "    .dataframe tbody tr th {\n",
       "        vertical-align: top;\n",
       "    }\n",
       "\n",
       "    .dataframe thead th {\n",
       "        text-align: right;\n",
       "    }\n",
       "</style>\n",
       "<table border=\"1\" class=\"dataframe\">\n",
       "  <thead>\n",
       "    <tr style=\"text-align: right;\">\n",
       "      <th>연도</th>\n",
       "      <th>2005</th>\n",
       "      <th>2010</th>\n",
       "      <th>2015</th>\n",
       "      <th>총합</th>\n",
       "    </tr>\n",
       "    <tr>\n",
       "      <th>도시</th>\n",
       "      <th></th>\n",
       "      <th></th>\n",
       "      <th></th>\n",
       "      <th></th>\n",
       "    </tr>\n",
       "  </thead>\n",
       "  <tbody>\n",
       "    <tr>\n",
       "      <th>부산</th>\n",
       "      <td>99393938.0</td>\n",
       "      <td>99393938.0</td>\n",
       "      <td>99393938.0</td>\n",
       "      <td>298181814</td>\n",
       "    </tr>\n",
       "    <tr>\n",
       "      <th>서울</th>\n",
       "      <td>99393938.0</td>\n",
       "      <td>99393938.0</td>\n",
       "      <td>99393938.0</td>\n",
       "      <td>298181814</td>\n",
       "    </tr>\n",
       "    <tr>\n",
       "      <th>인천</th>\n",
       "      <td>NaN</td>\n",
       "      <td>99393938.0</td>\n",
       "      <td>99393938.0</td>\n",
       "      <td>198787876</td>\n",
       "    </tr>\n",
       "    <tr>\n",
       "      <th>총합</th>\n",
       "      <td>198787876.0</td>\n",
       "      <td>298181814.0</td>\n",
       "      <td>298181814.0</td>\n",
       "      <td>795151504</td>\n",
       "    </tr>\n",
       "  </tbody>\n",
       "</table>\n",
       "</div>"
      ],
      "text/plain": [
       "연도         2005         2010         2015         총합\n",
       "도시                                                  \n",
       "부산   99393938.0   99393938.0   99393938.0  298181814\n",
       "서울   99393938.0   99393938.0   99393938.0  298181814\n",
       "인천          NaN   99393938.0   99393938.0  198787876\n",
       "총합  198787876.0  298181814.0  298181814.0  795151504"
      ]
     },
     "execution_count": 13,
     "metadata": {},
     "output_type": "execute_result"
    }
   ],
   "source": [
    "df.pivot_table('인구', '도시', '연도', aggfunc = 'sum', margins_name = '총합', margins = True)"
   ]
  }
 ],
 "metadata": {
  "kernelspec": {
   "display_name": "3.8",
   "language": "python",
   "name": "3.8"
  },
  "language_info": {
   "codemirror_mode": {
    "name": "ipython",
    "version": 3
   },
   "file_extension": ".py",
   "mimetype": "text/x-python",
   "name": "python",
   "nbconvert_exporter": "python",
   "pygments_lexer": "ipython3",
   "version": "3.8.8"
  }
 },
 "nbformat": 4,
 "nbformat_minor": 5
}
