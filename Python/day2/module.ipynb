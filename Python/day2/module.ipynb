{
 "cells": [
  {
   "cell_type": "markdown",
   "id": "69e0d930",
   "metadata": {},
   "source": [
    "# 모듈 import 방법"
   ]
  },
  {
   "cell_type": "code",
   "execution_count": 1,
   "id": "b7a83629",
   "metadata": {},
   "outputs": [
    {
     "data": {
      "text/plain": [
       "3"
      ]
     },
     "execution_count": 1,
     "metadata": {},
     "output_type": "execute_result"
    }
   ],
   "source": [
    "import math\n",
    "math.trunc(3.14)\n",
    "\n",
    "from math import trunc, log\n",
    "trunc(3.14)\n",
    "\n",
    "from math import *\n",
    "trunc(3.14)\n",
    "\n",
    "import math as ma\n",
    "ma.trunc(3.14)"
   ]
  },
  {
   "cell_type": "markdown",
   "id": "098baa21",
   "metadata": {},
   "source": [
    "# 모듈 예제"
   ]
  },
  {
   "cell_type": "code",
   "execution_count": 2,
   "id": "7f650761",
   "metadata": {},
   "outputs": [
    {
     "name": "stdout",
     "output_type": "stream",
     "text": [
      "76\n",
      "6\n",
      "가나다라\n",
      "['ab가나', '가나다라', '가나cd', 'abcde']\n",
      "['가나다라', '가나cd']\n"
     ]
    }
   ],
   "source": [
    "import random\n",
    "\n",
    "print(random.randint(1, 100))\n",
    "print(random.randrange(1, 10))\n",
    "name_list = [\"abcde\", \"가나다라\", \"ab가나\", \"가나cd\"]\n",
    "print(random.choice(name_list))\n",
    "random.shuffle(name_list)\n",
    "print(name_list)\n",
    "print(random.sample(name_list, 2))"
   ]
  },
  {
   "cell_type": "code",
   "execution_count": 3,
   "id": "7d41b972",
   "metadata": {},
   "outputs": [
    {
     "name": "stdout",
     "output_type": "stream",
     "text": [
      "3.9.4 (v3.9.4:1f2e3088f3, Apr  4 2021, 12:19:19) \n",
      "[Clang 12.0.0 (clang-1200.0.32.29)]\n",
      "['/Users/melonbottle/jupyter/day2', '/Library/Frameworks/Python.framework/Versions/3.9/lib/python39.zip', '/Library/Frameworks/Python.framework/Versions/3.9/lib/python3.9', '/Library/Frameworks/Python.framework/Versions/3.9/lib/python3.9/lib-dynload', '', '/Library/Frameworks/Python.framework/Versions/3.9/lib/python3.9/site-packages', '/Library/Frameworks/Python.framework/Versions/3.9/lib/python3.9/site-packages/IPython/extensions', '/Users/melonbottle/.ipython']\n"
     ]
    }
   ],
   "source": [
    "import sys\n",
    "print(sys.version)\n",
    "# print(sys.getwindowsversion())\n",
    "print(sys.path)"
   ]
  },
  {
   "cell_type": "code",
   "execution_count": 4,
   "id": "e4cb30f0",
   "metadata": {},
   "outputs": [
    {
     "name": "stdout",
     "output_type": "stream",
     "text": [
      "posix\n",
      "/Users/melonbottle/jupyter/day2\n",
      "['module.ipynb', 'variable.ipynb', 'exception.ipynb', '.ipynb_checkpoints']\n"
     ]
    }
   ],
   "source": [
    "import os\n",
    "\n",
    "print(os.name)\n",
    "print(os.getcwd())\n",
    "print(os.listdir())"
   ]
  },
  {
   "cell_type": "code",
   "execution_count": 5,
   "id": "30884518",
   "metadata": {},
   "outputs": [
    {
     "name": "stdout",
     "output_type": "stream",
     "text": [
      "2021\n",
      "4\n",
      "29\n",
      "16\n",
      "15\n",
      "56\n",
      "1년 뒤 =  2022\n"
     ]
    }
   ],
   "source": [
    "import datetime\n",
    "\n",
    "now = datetime.datetime.now()\n",
    "print(now.year)\n",
    "print(now.month)\n",
    "print(now.day)\n",
    "print(now.hour)\n",
    "print(now.minute)\n",
    "print(now.second)\n",
    "\n",
    "after_1year = now.replace(year=(now.year+1))\n",
    "print(\"1년 뒤 = \",after_1year.year)"
   ]
  },
  {
   "cell_type": "code",
   "execution_count": 6,
   "id": "6d51b82a",
   "metadata": {},
   "outputs": [
    {
     "data": {
      "text/plain": [
       "time.struct_time(tm_year=2021, tm_mon=4, tm_mday=29, tm_hour=16, tm_min=16, tm_sec=3, tm_wday=3, tm_yday=119, tm_isdst=0)"
      ]
     },
     "execution_count": 6,
     "metadata": {},
     "output_type": "execute_result"
    }
   ],
   "source": [
    "import time\n",
    "sec = time.time()\n",
    "time.localtime(sec)"
   ]
  },
  {
   "cell_type": "code",
   "execution_count": null,
   "id": "f8f9da87",
   "metadata": {},
   "outputs": [],
   "source": [
    "import urllib.request as req\n",
    "from bs4 import BeautifulSoup as bs\n",
    "\n",
    "response = req.urlopen(\"http://localhost:9091/\")\n",
    "\n",
    "soup = bs(response, \"html.parser\")\n",
    "\n",
    "# 전체 내용 출력\n",
    "rescontents = soup.prettify()\n",
    "print(rescontents)\n",
    "\n",
    "# h3 태그\n",
    "print(soup.find(\"h3\"))\n",
    "print(soup.find(\"h3\").string)\n",
    "print(soup.find(\"img\")['src'])\n",
    "\n",
    "for h3 in soup.findAll(\"h3\") :\n",
    "    print(h3.string)\n",
    "\n",
    "response.close()"
   ]
  }
 ],
 "metadata": {
  "kernelspec": {
   "display_name": "Python 3",
   "language": "python",
   "name": "python3"
  },
  "language_info": {
   "codemirror_mode": {
    "name": "ipython",
    "version": 3
   },
   "file_extension": ".py",
   "mimetype": "text/x-python",
   "name": "python",
   "nbconvert_exporter": "python",
   "pygments_lexer": "ipython3",
   "version": "3.9.4"
  }
 },
 "nbformat": 4,
 "nbformat_minor": 5
}
