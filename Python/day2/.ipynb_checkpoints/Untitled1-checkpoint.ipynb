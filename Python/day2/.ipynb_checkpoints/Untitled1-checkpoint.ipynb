{
 "cells": [
  {
   "cell_type": "markdown",
   "id": "02f17999",
   "metadata": {},
   "source": [
    "# 예외 처리"
   ]
  },
  {
   "cell_type": "code",
   "execution_count": 1,
   "id": "6fd5ef93",
   "metadata": {},
   "outputs": [
    {
     "name": "stdout",
     "output_type": "stream",
     "text": [
      "a 변수 선언된 적이 없어요\n"
     ]
    }
   ],
   "source": [
    "try : \n",
    "    print(a)\n",
    "except :\n",
    "    print(\"a 변수 선언된 적이 없어요\")\n"
   ]
  },
  {
   "cell_type": "code",
   "execution_count": 7,
   "id": "d61e0afb",
   "metadata": {},
   "outputs": [
    {
     "name": "stdout",
     "output_type": "stream",
     "text": [
      "대출 금액 상환 개월 수 입력하세요.12 d\n",
      "invalid literal for int() with base 10: 'd'\n",
      "영업 종료\n"
     ]
    }
   ],
   "source": [
    "try :\n",
    "    money = input(\"대출 금액 상환 개월 수 입력하세요.\")\n",
    "    two_items = money.split()\n",
    "    loan = int(two_items[0])\n",
    "    payback = int(two_items[1])\n",
    "    if payback <= 0 :\n",
    "        raise ValueError(\"상환 개월은 음수값을 입력할 수 없습니다.\")\n",
    "    monthly_return = loan / payback\n",
    "except IndexError :\n",
    "    print(\"대출 금액이나 개월 수 입력 확인하세요.\")\n",
    "except ValueError as ve :\n",
    "    print(ve)\n",
    "else : # 오류 없이 정상 실행되었을 때\n",
    "    print(monthly_return, \"을 매 달 상환하셔야 합니다.\")\n",
    "finally : \n",
    "    print(\"영업 종료\")"
   ]
  }
 ],
 "metadata": {
  "kernelspec": {
   "display_name": "Python 3",
   "language": "python",
   "name": "python3"
  },
  "language_info": {
   "codemirror_mode": {
    "name": "ipython",
    "version": 3
   },
   "file_extension": ".py",
   "mimetype": "text/x-python",
   "name": "python",
   "nbconvert_exporter": "python",
   "pygments_lexer": "ipython3",
   "version": "3.9.4"
  }
 },
 "nbformat": 4,
 "nbformat_minor": 5
}
