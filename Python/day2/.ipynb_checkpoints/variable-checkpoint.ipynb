{
 "cells": [
  {
   "cell_type": "markdown",
   "id": "fee8e099",
   "metadata": {},
   "source": [
    "# 가변 매개변수 함수 정의"
   ]
  },
  {
   "cell_type": "code",
   "execution_count": 3,
   "id": "c26a2823",
   "metadata": {},
   "outputs": [
    {
     "name": "stdout",
     "output_type": "stream",
     "text": [
      "('test', 'java')\n",
      "('test', 'java')\n",
      "('test', 'java')\n"
     ]
    }
   ],
   "source": [
    "def dynamic_ntimes(*msg) :\n",
    "    n = 3\n",
    "    for i in range(1, n + 1, 1) :\n",
    "        print(msg)\n",
    "        \n",
    "dynamic_ntimes('test', 'java')"
   ]
  },
  {
   "cell_type": "code",
   "execution_count": 9,
   "id": "2ad95a66",
   "metadata": {},
   "outputs": [
    {
     "name": "stdout",
     "output_type": "stream",
     "text": [
      "('test', 'java', 3)\n",
      "('test', 'java', 3)\n",
      "('test', 'java', 3)\n",
      "('test', 'java', 3)\n",
      "('test', 'java', 3)\n"
     ]
    }
   ],
   "source": [
    "def dynamic_ntimes(*msg, n) :\n",
    "    for i in range(1, n + 1, 1) :\n",
    "        print(msg)\n",
    "        \n",
    "dynamic_ntimes('test', 'java', 3, n=5)"
   ]
  },
  {
   "cell_type": "code",
   "execution_count": 12,
   "id": "cbcfa387",
   "metadata": {},
   "outputs": [
    {
     "name": "stdout",
     "output_type": "stream",
     "text": [
      "리턴 전\n",
      "0\n",
      "리턴 전\n",
      "None\n",
      "(1, 2, 3, 4, 5)\n",
      "1\n"
     ]
    }
   ],
   "source": [
    "def return1_func() :\n",
    "    print('리턴 전')\n",
    "    return 0\n",
    "    print('리턴 후')\n",
    "\n",
    "r1 = return1_func()\n",
    "print(r1)\n",
    "\n",
    "\n",
    "def return2_func() :\n",
    "    print('리턴 전')\n",
    "\n",
    "r2 = return2_func()\n",
    "print(r2)\n",
    "\n",
    "\n",
    "def return3_func() :\n",
    "    return 1,2,3,4,5\n",
    "\n",
    "r3 = return3_func()\n",
    "print(r3)\n",
    "print(r3[0])"
   ]
  },
  {
   "cell_type": "markdown",
   "id": "6b95dccd",
   "metadata": {},
   "source": [
    "# 매개변수 / 지역변수 / 전역변수"
   ]
  },
  {
   "cell_type": "code",
   "execution_count": 13,
   "id": "81430250",
   "metadata": {},
   "outputs": [
    {
     "name": "stdout",
     "output_type": "stream",
     "text": [
      "전역 변수\n",
      "매개 변수1\n",
      "지역 변수\n",
      "전역 변수\n",
      "매개 변수2\n",
      "다른 지역 변수\n"
     ]
    }
   ],
   "source": [
    "a = '전역 변수'\n",
    "def vartest(b) :\n",
    "    a = '전역 변수 값 수정'\n",
    "    c = '지역 변수'\n",
    "    print(a)\n",
    "    print(b)\n",
    "    print(c)\n",
    "    \n",
    "def vartest2(d) :\n",
    "    e = '다른 지역 변수'\n",
    "    print(a)\n",
    "    print(d)\n",
    "    print(e)\n",
    "    \n",
    "vartest('매개 변수1')\n",
    "vartest2('매개 변수2')"
   ]
  },
  {
   "cell_type": "code",
   "execution_count": 16,
   "id": "ba5532b6",
   "metadata": {},
   "outputs": [
    {
     "name": "stdout",
     "output_type": "stream",
     "text": [
      "지역 변수 2 값, 전역 변수 1 값 입니다.\n",
      "지역 변수 2 값, 전역 변수 2 값 입니다.\n",
      "지역 변수 2 값, 전역 변수 3 값 입니다.\n",
      "지역 변수 2 값, 전역 변수 4 값 입니다.\n",
      "지역 변수 2 값, 전역 변수 5 값 입니다.\n"
     ]
    }
   ],
   "source": [
    "global_var = 0\n",
    "def inc() :\n",
    "    local_var = 1\n",
    "    local_var += 1\n",
    "    global global_var\n",
    "    global_var += 1\n",
    "    print('지역 변수 {} 값, 전역 변수 {} 값 입니다.'.format(local_var, global_var))\n",
    "    \n",
    "inc()\n",
    "inc()\n",
    "inc()\n",
    "inc()\n",
    "inc()"
   ]
  },
  {
   "cell_type": "markdown",
   "id": "e3deb2c4",
   "metadata": {},
   "source": [
    "# 재귀 호출"
   ]
  },
  {
   "cell_type": "code",
   "execution_count": 20,
   "id": "eb8e0d0b",
   "metadata": {},
   "outputs": [
    {
     "name": "stdout",
     "output_type": "stream",
     "text": [
      "1!=1입니다.\n",
      "2!=2입니다.\n",
      "3!=6입니다.\n",
      "4!=24입니다.\n",
      "5!=120입니다.\n",
      "120\n"
     ]
    }
   ],
   "source": [
    "def fact1(n) :\n",
    "    result = 1\n",
    "    for i in range(1, n+1, 1) :\n",
    "        result *= i\n",
    "        print(\"{}!={}입니다.\".format(i, result))\n",
    "    return result\n",
    "\n",
    "r1 = fact1(5)\n",
    "print(r1)"
   ]
  },
  {
   "cell_type": "code",
   "execution_count": 22,
   "id": "87ef9a3b",
   "metadata": {},
   "outputs": [
    {
     "name": "stdout",
     "output_type": "stream",
     "text": [
      "1!=1입니다.\n",
      "2!=2입니다.\n",
      "3!=6입니다.\n",
      "4!=24입니다.\n",
      "5!=120입니다.\n",
      "120\n"
     ]
    }
   ],
   "source": [
    "def fact2(n) :\n",
    "    if n == 0 :\n",
    "        return 1\n",
    "    else : \n",
    "        result = n*fact2(n-1)\n",
    "        print(\"{}!={}입니다.\".format(n, result))\n",
    "        return result\n",
    "    \n",
    "r2 = fact2(5)\n",
    "print(r2)"
   ]
  },
  {
   "cell_type": "code",
   "execution_count": 24,
   "id": "d92cc146",
   "metadata": {},
   "outputs": [
    {
     "name": "stdout",
     "output_type": "stream",
     "text": [
      "출력\n"
     ]
    }
   ],
   "source": [
    "def f1() :\n",
    "    print('출력')\n",
    "    \n",
    "import time\n",
    "def call_func(f) :\n",
    "    time.sleep(5) # 5초 대기\n",
    "    f()\n",
    "    \n",
    "call_func(f1)"
   ]
  },
  {
   "cell_type": "code",
   "execution_count": 25,
   "id": "dd002b48",
   "metadata": {},
   "outputs": [
    {
     "name": "stdout",
     "output_type": "stream",
     "text": [
      "[2.5, 4.7, 3.6, 3.4]\n",
      "[2, 4, 3, 3]\n"
     ]
    }
   ],
   "source": [
    "a = [2.5, 4.7, 3.6, 3.4]\n",
    "print(a)\n",
    "a = list(map(int, a))\n",
    "print(a)"
   ]
  },
  {
   "cell_type": "code",
   "execution_count": 30,
   "id": "14e3eeae",
   "metadata": {},
   "outputs": [
    {
     "name": "stdout",
     "output_type": "stream",
     "text": [
      "JAVA programming 과정\n",
      "['JAVA progamming과정', 'ORACle sql', 'SPRIng framework', 'PYTHon programming']\n"
     ]
    }
   ],
   "source": [
    "#첫 문자만 대문자로 변경\n",
    "b = [\"java progamming과정\", \"oracle sql\", \"spring framework\", \"python programming\"]\n",
    "\n",
    "def my_upper(s) :\n",
    "    return s[:4].upper() + s[4:]\n",
    "\n",
    "print(my_upper(\"java programming 과정\"))\n",
    "\n",
    "b = list(map(my_upper, b))\n",
    "print(b)"
   ]
  },
  {
   "cell_type": "markdown",
   "id": "fb9e21af",
   "metadata": {},
   "source": [
    "# 람다식"
   ]
  },
  {
   "cell_type": "code",
   "execution_count": 35,
   "id": "2cf57b60",
   "metadata": {},
   "outputs": [
    {
     "name": "stdout",
     "output_type": "stream",
     "text": [
      "0\n",
      "100\n",
      "(25, -5, 150, 0.6666666666666666)\n"
     ]
    }
   ],
   "source": [
    "print((lambda : 0)())\n",
    "\n",
    "print((lambda x : x * x)(10))\n",
    "\n",
    "print((lambda x, y : (x + y, x - y, x * y, x / y))(10, 15))"
   ]
  }
 ],
 "metadata": {
  "kernelspec": {
   "display_name": "Python 3",
   "language": "python",
   "name": "python3"
  },
  "language_info": {
   "codemirror_mode": {
    "name": "ipython",
    "version": 3
   },
   "file_extension": ".py",
   "mimetype": "text/x-python",
   "name": "python",
   "nbconvert_exporter": "python",
   "pygments_lexer": "ipython3",
   "version": "3.9.4"
  }
 },
 "nbformat": 4,
 "nbformat_minor": 5
}
