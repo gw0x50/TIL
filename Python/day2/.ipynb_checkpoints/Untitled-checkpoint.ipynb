{
 "cells": [
  {
   "cell_type": "markdown",
   "id": "fee8e099",
   "metadata": {},
   "source": [
    "# 가변 매개변수 함수 정의"
   ]
  },
  {
   "cell_type": "code",
   "execution_count": 3,
   "id": "c26a2823",
   "metadata": {},
   "outputs": [
    {
     "name": "stdout",
     "output_type": "stream",
     "text": [
      "('test', 'java')\n",
      "('test', 'java')\n",
      "('test', 'java')\n"
     ]
    }
   ],
   "source": [
    "def dynamic_ntimes(*msg) :\n",
    "    n = 3\n",
    "    for i in range(1, n + 1, 1) :\n",
    "        print(msg)\n",
    "        \n",
    "dynamic_ntimes('test', 'java')"
   ]
  },
  {
   "cell_type": "code",
   "execution_count": 9,
   "id": "2ad95a66",
   "metadata": {},
   "outputs": [
    {
     "name": "stdout",
     "output_type": "stream",
     "text": [
      "('test', 'java', 3)\n",
      "('test', 'java', 3)\n",
      "('test', 'java', 3)\n",
      "('test', 'java', 3)\n",
      "('test', 'java', 3)\n"
     ]
    }
   ],
   "source": [
    "def dynamic_ntimes(*msg, n) :\n",
    "    for i in range(1, n + 1, 1) :\n",
    "        print(msg)\n",
    "        \n",
    "dynamic_ntimes('test', 'java', 3, n=5)"
   ]
  },
  {
   "cell_type": "code",
   "execution_count": 12,
   "id": "cbcfa387",
   "metadata": {},
   "outputs": [
    {
     "name": "stdout",
     "output_type": "stream",
     "text": [
      "리턴 전\n",
      "0\n",
      "리턴 전\n",
      "None\n",
      "(1, 2, 3, 4, 5)\n",
      "1\n"
     ]
    }
   ],
   "source": [
    "def return1_func() :\n",
    "    print('리턴 전')\n",
    "    return 0\n",
    "    print('리턴 후')\n",
    "\n",
    "r1 = return1_func()\n",
    "print(r1)\n",
    "\n",
    "\n",
    "def return2_func() :\n",
    "    print('리턴 전')\n",
    "\n",
    "r2 = return2_func()\n",
    "print(r2)\n",
    "\n",
    "\n",
    "def return3_func() :\n",
    "    return 1,2,3,4,5\n",
    "\n",
    "r3 = return3_func()\n",
    "print(r3)\n",
    "print(r3[0])"
   ]
  },
  {
   "cell_type": "markdown",
   "id": "6b95dccd",
   "metadata": {},
   "source": [
    "# 매개변수 / 지역변수 / 전역변수"
   ]
  },
  {
   "cell_type": "code",
   "execution_count": 13,
   "id": "81430250",
   "metadata": {},
   "outputs": [
    {
     "name": "stdout",
     "output_type": "stream",
     "text": [
      "전역 변수\n",
      "매개 변수1\n",
      "지역 변수\n",
      "전역 변수\n",
      "매개 변수2\n",
      "다른 지역 변수\n"
     ]
    }
   ],
   "source": [
    "a = '전역 변수'\n",
    "def vartest(b) :\n",
    "    a = '전역 변수 값 수정'\n",
    "    c = '지역 변수'\n",
    "    print(a)\n",
    "    print(b)\n",
    "    print(c)\n",
    "    \n",
    "def vartest2(d) :\n",
    "    e = '다른 지역 변수'\n",
    "    print(a)\n",
    "    print(d)\n",
    "    print(e)\n",
    "    \n",
    "vartest('매개 변수1')\n",
    "vartest2('매개 변수2')"
   ]
  },
  {
   "cell_type": "code",
   "execution_count": 16,
   "id": "ba5532b6",
   "metadata": {},
   "outputs": [
    {
     "name": "stdout",
     "output_type": "stream",
     "text": [
      "지역 변수 2 값, 전역 변수 1 값 입니다.\n",
      "지역 변수 2 값, 전역 변수 2 값 입니다.\n",
      "지역 변수 2 값, 전역 변수 3 값 입니다.\n",
      "지역 변수 2 값, 전역 변수 4 값 입니다.\n",
      "지역 변수 2 값, 전역 변수 5 값 입니다.\n"
     ]
    }
   ],
   "source": [
    "global_var = 0\n",
    "def inc() :\n",
    "    local_var = 1\n",
    "    local_var += 1\n",
    "    global global_var\n",
    "    global_var += 1\n",
    "    print('지역 변수 {} 값, 전역 변수 {} 값 입니다.'.format(local_var, global_var))\n",
    "    \n",
    "inc()\n",
    "inc()\n",
    "inc()\n",
    "inc()\n",
    "inc()"
   ]
  },
  {
   "cell_type": "markdown",
   "id": "e3deb2c4",
   "metadata": {},
   "source": [
    "# 재귀 호출"
   ]
  },
  {
   "cell_type": "code",
   "execution_count": 20,
   "id": "eb8e0d0b",
   "metadata": {},
   "outputs": [
    {
     "name": "stdout",
     "output_type": "stream",
     "text": [
      "1!=1입니다.\n",
      "2!=2입니다.\n",
      "3!=6입니다.\n",
      "4!=24입니다.\n",
      "5!=120입니다.\n",
      "120\n"
     ]
    }
   ],
   "source": [
    "def fact1(n) :\n",
    "    result = 1\n",
    "    for i in range(1, n+1, 1) :\n",
    "        result *= i\n",
    "        print(\"{}!={}입니다.\".format(i, result))\n",
    "    return result\n",
    "\n",
    "r1 = fact1(5)\n",
    "print(r1)"
   ]
  },
  {
   "cell_type": "code",
   "execution_count": 22,
   "id": "87ef9a3b",
   "metadata": {},
   "outputs": [
    {
     "name": "stdout",
     "output_type": "stream",
     "text": [
      "1!=1입니다.\n",
      "2!=2입니다.\n",
      "3!=6입니다.\n",
      "4!=24입니다.\n",
      "5!=120입니다.\n",
      "120\n"
     ]
    }
   ],
   "source": [
    "def fact2(n) :\n",
    "    if n == 0 :\n",
    "        return 1\n",
    "    else : \n",
    "        result = n*fact2(n-1)\n",
    "        print(\"{}!={}입니다.\".format(n, result))\n",
    "        return result\n",
    "    \n",
    "r2 = fact2(5)\n",
    "print(r2)"
   ]
  },
  {
   "cell_type": "code",
   "execution_count": 24,
   "id": "d92cc146",
   "metadata": {},
   "outputs": [
    {
     "name": "stdout",
     "output_type": "stream",
     "text": [
      "출력\n"
     ]
    }
   ],
   "source": [
    "def f1() :\n",
    "    print('출력')\n",
    "    \n",
    "import time\n",
    "def call_func(f) :\n",
    "    time.sleep(5) # 5초 대기\n",
    "    f()\n",
    "    \n",
    "call_func(f1)"
   ]
  },
  {
   "cell_type": "code",
   "execution_count": 25,
   "id": "dd002b48",
   "metadata": {},
   "outputs": [
    {
     "name": "stdout",
     "output_type": "stream",
     "text": [
      "[2.5, 4.7, 3.6, 3.4]\n",
      "[2, 4, 3, 3]\n"
     ]
    }
   ],
   "source": [
    "a = [2.5, 4.7, 3.6, 3.4]\n",
    "print(a)\n",
    "a = list(map(int, a))\n",
    "print(a)"
   ]
  },
  {
   "cell_type": "code",
   "execution_count": 30,
   "id": "14e3eeae",
   "metadata": {},
   "outputs": [
    {
     "name": "stdout",
     "output_type": "stream",
     "text": [
      "JAVA programming 과정\n",
      "['JAVA progamming과정', 'ORACle sql', 'SPRIng framework', 'PYTHon programming']\n"
     ]
    }
   ],
   "source": [
    "#첫 문자만 대문자로 변경\n",
    "b = [\"java progamming과정\", \"oracle sql\", \"spring framework\", \"python programming\"]\n",
    "\n",
    "def my_upper(s) :\n",
    "    return s[:4].upper() + s[4:]\n",
    "\n",
    "print(my_upper(\"java programming 과정\"))\n",
    "\n",
    "b = list(map(my_upper, b))\n",
    "print(b)"
   ]
  },
  {
   "cell_type": "markdown",
   "id": "fb9e21af",
   "metadata": {},
   "source": [
    "# 람다식"
   ]
  },
  {
   "cell_type": "code",
   "execution_count": 35,
   "id": "2cf57b60",
   "metadata": {},
   "outputs": [
    {
     "name": "stdout",
     "output_type": "stream",
     "text": [
      "0\n",
      "100\n",
      "(25, -5, 150, 0.6666666666666666)\n"
     ]
    }
   ],
   "source": [
    "print((lambda : 0)())\n",
    "\n",
    "print((lambda x : x * x)(10))\n",
    "\n",
    "print((lambda x, y : (x + y, x - y, x * y, x / y))(10, 15))"
   ]
  },
  {
   "cell_type": "markdown",
   "id": "9ff59900",
   "metadata": {},
   "source": [
    "# 모듈 import 방법"
   ]
  },
  {
   "cell_type": "code",
   "execution_count": null,
   "id": "0d9ffccc",
   "metadata": {},
   "outputs": [],
   "source": [
    "import math\n",
    "math.trunc(3.14)\n",
    "\n",
    "from math import trunc, log\n",
    "trunc(3.14)\n",
    "\n",
    "from math import *\n",
    "trunc(3.14)\n",
    "\n",
    "import math as ma\n",
    "ma.trunc(3.14)"
   ]
  },
  {
   "cell_type": "markdown",
   "id": "231bebff",
   "metadata": {},
   "source": [
    "# 모듈 예제"
   ]
  },
  {
   "cell_type": "code",
   "execution_count": 3,
   "id": "7e5a8ce2",
   "metadata": {},
   "outputs": [
    {
     "name": "stdout",
     "output_type": "stream",
     "text": [
      "54\n",
      "8\n",
      "abcde\n",
      "['가나다라', 'abcde', 'ab가나', '가나cd']\n",
      "['ab가나', 'abcde']\n"
     ]
    }
   ],
   "source": [
    "import random\n",
    "\n",
    "print(random.randint(1, 100))\n",
    "print(random.randrange(1, 10))\n",
    "name_list = [\"abcde\", \"가나다라\", \"ab가나\", \"가나cd\"]\n",
    "print(random.choice(name_list))\n",
    "random.shuffle(name_list)\n",
    "print(name_list)\n",
    "print(random.sample(name_list, 2))"
   ]
  },
  {
   "cell_type": "code",
   "execution_count": 6,
   "id": "a42c3c7d",
   "metadata": {},
   "outputs": [
    {
     "name": "stdout",
     "output_type": "stream",
     "text": [
      "3.9.4 (v3.9.4:1f2e3088f3, Apr  4 2021, 12:19:19) \n",
      "[Clang 12.0.0 (clang-1200.0.32.29)]\n",
      "['/Users/melonbottle/jupyter/day2', '/Library/Frameworks/Python.framework/Versions/3.9/lib/python39.zip', '/Library/Frameworks/Python.framework/Versions/3.9/lib/python3.9', '/Library/Frameworks/Python.framework/Versions/3.9/lib/python3.9/lib-dynload', '', '/Library/Frameworks/Python.framework/Versions/3.9/lib/python3.9/site-packages', '/Library/Frameworks/Python.framework/Versions/3.9/lib/python3.9/site-packages/IPython/extensions', '/Users/melonbottle/.ipython']\n"
     ]
    }
   ],
   "source": [
    "import sys\n",
    "print(sys.version)\n",
    "# print(sys.getwindowsversion())\n",
    "print(sys.path)"
   ]
  },
  {
   "cell_type": "code",
   "execution_count": 7,
   "id": "2639859c",
   "metadata": {},
   "outputs": [
    {
     "name": "stdout",
     "output_type": "stream",
     "text": [
      "posix\n",
      "/Users/melonbottle/jupyter/day2\n"
     ]
    }
   ],
   "source": [
    "import os\n",
    "\n",
    "print(os.name)\n",
    "print(os.getcwd())\n",
    "print(os.listdir())"
   ]
  },
  {
   "cell_type": "code",
   "execution_count": 8,
   "id": "6eb1ce9d",
   "metadata": {},
   "outputs": [
    {
     "name": "stdout",
     "output_type": "stream",
     "text": [
      "2021\n",
      "4\n",
      "29\n",
      "13\n",
      "43\n",
      "35\n",
      "1년 뒤 =  2022\n"
     ]
    }
   ],
   "source": [
    "import datetime\n",
    "\n",
    "now = datetime.datetime.now()\n",
    "print(now.year)\n",
    "print(now.month)\n",
    "print(now.day)\n",
    "print(now.hour)\n",
    "print(now.minute)\n",
    "print(now.second)\n",
    "\n",
    "after_1year = now.replace(year=(now.year+1))\n",
    "print(\"1년 뒤 = \",after_1year.year)"
   ]
  },
  {
   "cell_type": "code",
   "execution_count": 14,
   "id": "cc217093",
   "metadata": {},
   "outputs": [
    {
     "data": {
      "text/plain": [
       "time.struct_time(tm_year=2021, tm_mon=4, tm_mday=29, tm_hour=14, tm_min=38, tm_sec=18, tm_wday=3, tm_yday=119, tm_isdst=0)"
      ]
     },
     "execution_count": 14,
     "metadata": {},
     "output_type": "execute_result"
    }
   ],
   "source": [
    "import time\n",
    "sec = time.time()\n",
    "time.localtime(sec)"
   ]
  },
  {
   "cell_type": "code",
   "execution_count": 21,
   "id": "33cde56d",
   "metadata": {},
   "outputs": [
    {
     "name": "stdout",
     "output_type": "stream",
     "text": [
      "<!DOCTYPE html>\n",
      "<html>\n",
      " <head>\n",
      "  <meta charset=\"utf-8\"/>\n",
      "  <title>\n",
      "   Insert title here\n",
      "  </title>\n",
      "  <script src=\"/static/jquery-3.2.1.min.js\">\n",
      "  </script>\n",
      "  <script>\n",
      "   $(document).ready(function(){\r\n",
      "\r\n",
      "});//ready end\n",
      "  </script>\n",
      " </head>\n",
      " <body>\n",
      "  <h1>\n",
      "   hello.jsp running\n",
      "  </h1>\n",
      "  <h3>\n",
      "   img output\n",
      "  </h3>\n",
      "  <img alt=\"경로확인\" src=\"/upload/google.png\"/>\n",
      " </body>\n",
      "</html>\n",
      "<h3> img output </h3>\n",
      " img output \n",
      "/upload/google.png\n",
      " img output \n"
     ]
    }
   ],
   "source": [
    "import urllib.request as req\n",
    "from bs4 import BeautifulSoup as bs\n",
    "\n",
    "response = req.urlopen(\"http://localhost:9091/\")\n",
    "\n",
    "soup = bs(response, \"html.parser\")\n",
    "\n",
    "# 전체 내용 출력\n",
    "rescontents = soup.prettify()\n",
    "print(rescontents)\n",
    "\n",
    "# h3 태그\n",
    "print(soup.find(\"h3\"))\n",
    "print(soup.find(\"h3\").string)\n",
    "print(soup.find(\"img\")['src'])\n",
    "\n",
    "for h3 in soup.findAll(\"h3\") :\n",
    "    print(h3.string)\n",
    "\n",
    "response.close()"
   ]
  }
 ],
 "metadata": {
  "kernelspec": {
   "display_name": "Python 3",
   "language": "python",
   "name": "python3"
  },
  "language_info": {
   "codemirror_mode": {
    "name": "ipython",
    "version": 3
   },
   "file_extension": ".py",
   "mimetype": "text/x-python",
   "name": "python",
   "nbconvert_exporter": "python",
   "pygments_lexer": "ipython3",
   "version": "3.9.4"
  }
 },
 "nbformat": 4,
 "nbformat_minor": 5
}
